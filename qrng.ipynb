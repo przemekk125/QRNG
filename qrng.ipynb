{
 "cells": [
  {
   "cell_type": "markdown",
   "metadata": {},
   "source": [
    "\n",
    "## Simple code for Quantum Random Number Generator\n",
    "\n",
    "This code should give a random float, generated using qiskit_aer simulator, or real backend."
   ]
  },
  {
   "cell_type": "code",
   "execution_count": 68,
   "metadata": {},
   "outputs": [],
   "source": [
    "from qiskit_ibm_runtime import QiskitRuntimeService\n",
    "from qiskit_aer import AerSimulator\n",
    "from qiskit import QuantumCircuit\n",
    "from qiskit.transpiler.preset_passmanagers import generate_preset_pass_manager\n",
    "from qiskit_ibm_runtime import SamplerV2 as Sampler\n",
    "import sys,time"
   ]
  },
  {
   "cell_type": "code",
   "execution_count": 64,
   "metadata": {},
   "outputs": [],
   "source": [
    "def generate_random_bits(n:int,n_bits:int,pass_manager,sampler):\n",
    "    qc = QuantumCircuit(n_bits)\n",
    "    qc.h(range(n_bits))\n",
    "    qc.measure_all()\n",
    "    qc = pass_manager.run(qc)\n",
    "    job = sampler.run(pubs=[qc],shots=n)\n",
    "\n",
    "    done= False\n",
    "    print(\"Running \\n\")\n",
    "    i=1\n",
    "    while not done:\n",
    "        if job.done(): done = True\n",
    "        try:\n",
    "            status = job.status().name\n",
    "        except:\n",
    "            status = job.status()\n",
    "        if status==\"ERROR\":\n",
    "            print(\"Job \")\n",
    "            print(status)\n",
    "            sys.exit(0)\n",
    "        print(\".\"*i + \" \"*(3-i), end='\\r')\n",
    "        i=i%3\n",
    "        i+=1\n",
    "        time.sleep(2)\n",
    "    result = job.result()\n",
    "    dic = result[0].data.meas.get_counts()\n",
    "    return [key for key, value in dic.items() for _ in range(value)]\n",
    "\n",
    "def bits_to_float(bits:str):\n",
    "    random_float = int(bits, 2) / (2 ** len(bits))\n",
    "    return random_float"
   ]
  },
  {
   "cell_type": "code",
   "execution_count": 70,
   "metadata": {},
   "outputs": [],
   "source": [
    "backend_name = \"ibm_brisbane\"\n",
    "backend = QiskitRuntimeService().backend(name=backend_name)\n",
    "# Aer\n",
    "#backend = AerSimulator.from_backend(backend=backend)\n",
    "#backend_name = backend_name+\"_Aer\""
   ]
  },
  {
   "cell_type": "markdown",
   "metadata": {},
   "source": [
    "\n",
    "### Declare precision of floating point number (number of bits used) and how many numbers to generate \n"
   ]
  },
  {
   "cell_type": "code",
   "execution_count": 66,
   "metadata": {},
   "outputs": [],
   "source": [
    "n_bits=16\n",
    "n=12"
   ]
  },
  {
   "cell_type": "code",
   "execution_count": 71,
   "metadata": {},
   "outputs": [
    {
     "name": "stdout",
     "output_type": "stream",
     "text": [
      "Running \n",
      "\n",
      "Random 12 floats in range [0,1):\n",
      "[0.671295166015625, 0.1432342529296875, 0.8980712890625, 0.8761444091796875, 0.4193572998046875, 0.134490966796875, 0.942352294921875, 0.0821533203125, 0.2520751953125, 0.9700775146484375, 0.84698486328125, 0.4893341064453125]\n"
     ]
    }
   ],
   "source": [
    "pass_manager = generate_preset_pass_manager(optimization_level=1,backend=backend)\n",
    "sampler = Sampler(mode=backend)\n",
    "bits_list = generate_random_bits(n,n_bits,pass_manager,sampler)\n",
    "result = [bits_to_float(item) for item in bits_list]\n",
    "print(f\"Random {n} floats in range [0,1):\\n{result}\")"
   ]
  }
 ],
 "metadata": {
  "kernelspec": {
   "display_name": ".venv",
   "language": "python",
   "name": "python3"
  },
  "language_info": {
   "codemirror_mode": {
    "name": "ipython",
    "version": 3
   },
   "file_extension": ".py",
   "mimetype": "text/x-python",
   "name": "python",
   "nbconvert_exporter": "python",
   "pygments_lexer": "ipython3",
   "version": "3.10.7"
  }
 },
 "nbformat": 4,
 "nbformat_minor": 2
}
